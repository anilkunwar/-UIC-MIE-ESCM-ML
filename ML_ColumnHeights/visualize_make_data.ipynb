{
 "cells": [
  {
   "cell_type": "markdown",
   "metadata": {},
   "source": [
    "## Making training and test data "
   ]
  },
  {
   "cell_type": "markdown",
   "metadata": {},
   "source": [
    "In this notebook it is explained step by step the procedure to create the simulated HRTEM images used for training and test the neural network. \n",
    "- The wulff_construction module of the atomic simulation environment (ASE) is used to create the atomic model with random parameters, such as the number of atoms in the structure and the orientations. \n",
    "- The PyQSTEM library is used to simulate the corresponding high resolution transmission electron microscopy (HRTEM)image with random values of the microscope parameters (spherical aberration, defocus, focal spread etc.)\n",
    "\n",
    "The random values of the input parameters in both the atomic models and the simulated HRTEM image are necessary to create a moltitude of different data to properly train and thest the neural network. This notebook allows to visulize the results obtaine by the corresponding make_data.py. For simplicity, here it is shown the creation of a single image, but in make_data.py one can create many images depending on the specific need for training and testing the neural network. For our case, 8000 ands 2000 images have been considered to train and test the model.\n",
    "\n",
    "The simulated images and the corresponding labels should be saved in the folders 'data/training/images/', 'data/training/labels/' for the training and 'data/test/images/','data/test/labels/' for the test."
   ]
  },
  {
   "cell_type": "code",
   "execution_count": 1,
   "metadata": {},
   "outputs": [],
   "source": [
    "import numpy as np\n",
    "import matplotlib.pyplot as plt\n",
    "import ase\n",
    "from ase.cluster import wulff_construction\n",
    "from ase.visualize import view\n",
    "import pyqstem\n",
    "from pyqstem.imaging import CTF\n",
    "from pyqstem import PyQSTEM\n",
    "from data_augmentation import local_normalize,random_flip,random_contrast,random_brightness,random_blur,random_gamma,random_flip\n",
    "from make_label import make_label"
   ]
  },
  {
   "cell_type": "markdown",
   "metadata": {},
   "source": [
    "Input:\n",
    "\n",
    "- surfaces: surface orientation of the simulated metallic nanoparticles. Depending on the purpose,particles with different surface orientation can be mixed or used separately in the training process. The user can include as many configurations in order to train a model which can work for any orientation depending on the needs. In our case we have considered [1,0,0],[1,1,0],[1,1,1] because these are the surface orientations of the nanoparticles in the experimental HRTEM images.\n",
    "\n",
    "\n",
    "- esurf: surface energies in [J/m^2] of the considered surface orientations. The surface energies are derived from density functional theory (DFT) calculations.\n",
    "\n",
    "\n",
    "- n_min_atoms,n_max_atoms: range of the random number of atoms considered in the structure. A different number of atoms corresponds to different column heights.\n",
    "\n",
    "\n",
    "- lc: lattice constant\n",
    "\n",
    "\n",
    "- random_alpha: the structure is rotated of a random angle chosen randomly in a pre-defined set. The rotation of the structure leads to the exposure of a particular surface orientation, resulting in a different number of atoms in the atomic columns. Rotations angles of 0 and 45 degree have been set for the x an z axis. [1 0 0] orientation corresponds to rotation angle of 0 degree for both the x and z axis, [1 1 0] orientation for a 45 degree angle around the x axis and 0 degree angle around the z axis (or viceversa) and [1 1 1] for a rotation angle of 45 degree for both the x and z axis.\n",
    "\n",
    "\n",
    "- qstem: PyQSTEM module used in TEM mode\n",
    "\n",
    "\n",
    "- img_size: size of the simulated image. Here it is used 256 pixels, but the neural network is flexible to any value equal to $2^{n}$ where *n* is the number of pooling layers in the network.\n",
    "\n",
    "\n",
    "- random_sampling: resolution of the simulated HRTEM image. The sampling is simply the ratio between the length scale in A of the content represented in the simulated image and the image size. Here a random lenght scale of 65 $ ^{+}_{-}$ lamda A is used, where lamda is a random value between 0 and 2 A. As a result, a sampling range  between 0.256 and 0.265 is considered\n",
    "\n",
    "\n",
    "- cell_size: length scale in A of the represented content"
   ]
  },
  {
   "cell_type": "code",
   "execution_count": 2,
   "metadata": {},
   "outputs": [],
   "source": [
    "surfaces = [(1, 0, 0), (1, 1, 0), (1, 1, 1)]\n",
    "esurf = [6, 2, 4]   \n",
    "#surfaces = [(1, 0, 0), (1, 1, 0), (1, 1, 1),(2,1,0),(2,1,1),(2,2,1),(3,1,0),(3,1,1),(3,2,0),(3,2,1),(3,2,2),(3,3,1),(3,3,2)]\n",
    "#esurf = [6, 2, 4,1,2,8,1,7,1,5,5,3,5]  (from DFT calculations)\n",
    "lc = 4.08\n",
    "\n",
    "n_min_atoms=100\n",
    "n_max_atoms=2000\n",
    "\n",
    "random_alpha=[[0,0],[45,0],[45,45]]\n",
    "\n",
    "qstem=PyQSTEM('TEM')\n",
    "\n",
    "img_size=256\n",
    "random_sampling = np.random.uniform(low=0.250,high=0.265,size=1)[0]\n",
    "cell_size=random_sampling*img_size"
   ]
  },
  {
   "cell_type": "markdown",
   "metadata": {},
   "source": [
    "Creation of the atomic model:\n",
    "\n",
    "- random_size: a random number of atoms is considered\n",
    "- atomic_model: atomic model of a gold nanoparticle is created using the wulff_construction module of ASE.\n",
    "- random_index: index for picking a random rotation angle around the x and z axis\n",
    "- atomic_model.rotate: rotation of the simulated structure\n"
   ]
  },
  {
   "cell_type": "code",
   "execution_count": 3,
   "metadata": {},
   "outputs": [
    {
     "name": "stdout",
     "output_type": "stream",
     "text": [
      "atomic model rotatated by 45 degree around the x axis\n",
      "atomic model rotatated by 0 degree around the z axis\n",
      "\n",
      "exposed surface: [1 1 0]\n"
     ]
    }
   ],
   "source": [
    "random_size = np.random.randint(low=n_min_atoms,high=n_max_atoms)  # Number of atoms\n",
    "\n",
    "atomic_model= wulff_construction('Au', surfaces, esurf,\n",
    "                           random_size, 'fcc',\n",
    "                           rounding='above', latticeconstant=lc)\n",
    "\n",
    "random_rotation=np.random.randint(len(random_alpha),size=1)[0]\n",
    "\n",
    "alpha_x=random_alpha[random_rotation][0]\n",
    "alpha_z=random_alpha[random_rotation][1]\n",
    "\n",
    "atomic_model.rotate(v='x',a=alpha_x,center='COP')\n",
    "atomic_model.rotate(v='z',a=alpha_z,center='COP')\n",
    "np.random.uniform(-10,10)\n",
    "atomic_model.set_cell((cell_size,)*3)\n",
    "\n",
    "atomic_model.center()\n",
    "\n",
    "lx=np.random.uniform(-cell_size/6,cell_size/6)\n",
    "ly=np.random.uniform(-cell_size/6,cell_size/6)\n",
    "\n",
    "atomic_model.translate([lx,ly,0])\n",
    "\n",
    "print('atomic model rotatated by '+str(alpha_x) +' degree around the x axis')\n",
    "print('atomic model rotatated by '+str(alpha_z) +' degree around the z axis')\n",
    "print('')\n",
    "\n",
    "if alpha_x==0 and alpha_z==0:\n",
    "    print('exposed surface: [1 0 0]')\n",
    "if alpha_x==45 and alpha_z==0:    \n",
    "    print('exposed surface: [1 1 0]')\n",
    "    np.random.uniform(-10,10)\n",
    "if alpha_x==45 and alpha_z==45:\n",
    "    print('exposed surface: [1 1 1]')"
   ]
  },
  {
   "cell_type": "markdown",
   "metadata": {},
   "source": [
    "Visualize the atomic model:"
   ]
  },
  {
   "cell_type": "code",
   "execution_count": 4,
   "metadata": {},
   "outputs": [],
   "source": [
    "view(atomic_model)"
   ]
  },
  {
   "cell_type": "markdown",
   "metadata": {},
   "source": [
    "Simulation of the exit wave function of the microsope"
   ]
  },
  {
   "cell_type": "code",
   "execution_count": 5,
   "metadata": {},
   "outputs": [],
   "source": [
    "wave_size=(int(atomic_model.get_cell()[0,0]/random_sampling),int(atomic_model.get_cell()[1,1]/random_sampling))\n",
    "qstem.set_atoms(atomic_model)\n",
    "qstem.build_wave('plane',300,wave_size)\n",
    "qstem.build_potential(int(atomic_model.get_cell()[2,2]*2))\n",
    "qstem.run()\n",
    "wave=qstem.get_wave()\n",
    "wave.array=wave.array.astype(np.complex64)"
   ]
  },
  {
   "cell_type": "markdown",
   "metadata": {},
   "source": [
    "Generation of the contrast transfer function (CTF) and modular transfer function (MTF) used to artificially reproduce the TEM process to form an image. The values of the microscope parameters are in agreement with the experimental conditions and they are summarized in Table 1 in the manuscript."
   ]
  },
  {
   "cell_type": "code",
   "execution_count": 6,
   "metadata": {},
   "outputs": [],
   "source": [
    "Cs = np.random.uniform(low=-20*1e4,high=20*1e4,size=1)[0]\n",
    "\n",
    "defocus=np.random.uniform(low=-250,high=-150,size=1)[0]\n",
    "\n",
    "focal_spread=np.random.uniform(low=20,high=40,size=1)[0]\n",
    "\n",
    "aberrations={'a22' : np.random.uniform(low=0,high=50,size=1)[0],\n",
    "                 'phi22' :  np.random.uniform(low=0,high=2*np.pi,size=1)[0]}\n",
    " \n",
    "ctf=CTF(defocus=defocus,Cs=Cs,focal_spread=focal_spread,aberrations=aberrations)\n",
    "\n",
    "blur= np.random.uniform(low=0,high=2,size=1)[0]\n",
    "\n",
    "dose=np.random.uniform(low=1e2,high=1e6,size=1)[0]\n",
    "\n",
    "c1=np.random.uniform(low=0.95,high=1,size=1)[0]\n",
    "\n",
    "c2=np.random.uniform(low=0,high=1e-2,size=1)[0]\n",
    "\n",
    "c3=np.random.uniform(low=5e-1,high=6e-1,size=1)[0]\n",
    "\n",
    "c4=c1=np.random.uniform(low=2,high=3,size=1)[0]\n",
    "\n",
    "MTF_param=[c1,c2,c3,c4]\n",
    "\n",
    "image=wave.apply_ctf(ctf).detect(resample=random_sampling,blur=blur,dose=dose,MTF_param=MTF_param)\n"
   ]
  },
  {
   "cell_type": "markdown",
   "metadata": {},
   "source": [
    "Label:"
   ]
  },
  {
   "cell_type": "code",
   "execution_count": 7,
   "metadata": {},
   "outputs": [],
   "source": [
    "label=make_label(atomic_model,random_sampling,(img_size,)*2,width=2)"
   ]
  },
  {
   "cell_type": "markdown",
   "metadata": {},
   "source": [
    "Data augmentation is applied to generate images with different brightneesm contrast, blur etc. Random parameters are used to create a broad dataset of simulated images with combinations of dirrent imaging conditions."
   ]
  },
  {
   "cell_type": "code",
   "execution_count": 8,
   "metadata": {},
   "outputs": [],
   "source": [
    "image=local_normalize(image,12/random_sampling,12/random_sampling)\n",
    "\n",
    "image=random_brightness(image,-0.1,0.1)\n",
    "\n",
    "image=random_contrast(image,0.9,1.1)\n",
    "\n",
    "image=random_gamma(image,0.9,1.1)\n",
    "\n",
    "image=random_blur(image,0.9,1.1)\n",
    "\n",
    "image,label=random_flip(image,label,0,1)\n"
   ]
  },
  {
   "cell_type": "markdown",
   "metadata": {},
   "source": [
    "Visualizing the simulated HRTEM image"
   ]
  },
  {
   "cell_type": "code",
   "execution_count": 9,
   "metadata": {},
   "outputs": [
    {
     "data": {
      "text/plain": [
       "(-0.5, 255.5, 255.5, -0.5)"
      ]
     },
     "execution_count": 9,
     "metadata": {},
     "output_type": "execute_result"
    },
    {
     "data": {
      "image/png": "[encoded data removed]",
      "text/plain": [
       "<Figure size 432x288 with 1 Axes>"
      ]
     },
     "metadata": {
      "needs_background": "light"
     },
     "output_type": "display_data"
    }
   ],
   "source": [
    "plt.imshow(image[:,:],cmap='gray')\n",
    "plt.axis('off')"
   ]
  },
  {
   "cell_type": "code",
   "execution_count": 10,
   "metadata": {},
   "outputs": [
    {
     "data": {
      "text/plain": [
       "<matplotlib.colorbar.Colorbar at 0x7f4da1ba3bd0>"
      ]
     },
     "execution_count": 10,
     "metadata": {},
     "output_type": "execute_result"
    },
    {
     "data": {
      "image/png": "[encoded data removed]",
      "text/plain": [
       "<Figure size 432x288 with 2 Axes>"
      ]
     },
     "metadata": {
      "needs_background": "light"
     },
     "output_type": "display_data"
    }
   ],
   "source": [
    "plt.imshow(label,cmap='jet',interpolation='Gaussian')\n",
    "plt.axis('off')\n",
    "plt.colorbar()"
   ]
  },
  {
   "cell_type": "code",
   "execution_count": null,
   "metadata": {},
   "outputs": [],
   "source": []
  },
  {
   "cell_type": "code",
   "execution_count": null,
   "metadata": {},
   "outputs": [],
   "source": []
  },
  {
   "cell_type": "code",
   "execution_count": null,
   "metadata": {},
   "outputs": [],
   "source": []
  }
 ],
 "metadata": {
  "kernelspec": {
   "display_name": "Python 3",
   "language": "python",
   "name": "python3"
  },
  "language_info": {
   "codemirror_mode": {
    "name": "ipython",
    "version": 3
   },
   "file_extension": ".py",
   "mimetype": "text/x-python",
   "name": "python",
   "nbconvert_exporter": "python",
   "pygments_lexer": "ipython3",
   "version": "3.7.5"
  }
 },
 "nbformat": 4,
 "nbformat_minor": 2
}
